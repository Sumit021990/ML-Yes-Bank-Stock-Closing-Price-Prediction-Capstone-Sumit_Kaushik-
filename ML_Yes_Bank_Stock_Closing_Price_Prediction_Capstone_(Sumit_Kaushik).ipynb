{
  "nbformat": 4,
  "nbformat_minor": 0,
  "metadata": {
    "colab": {
      "private_outputs": true,
      "provenance": [],
      "collapsed_sections": [
        "_ouA3fa0phqN",
        "7wuGOrhz0itI",
        "-jK_YjpMpsJ2",
        "HAih1iBOpsJ2",
        "zVGeBEFhpsJ2",
        "bmKjuQ-FpsJ3",
        "Fze-IPXLpx6K",
        "7AN1z2sKpx6M",
        "9PIHJqyupx6M",
        "_-qAgymDpx6N",
        "Z-hykwinpx6N",
        "h_CCil-SKHpo",
        "cBFFvTBNJzUa",
        "gCX9965dhzqZ",
        "gIfDvo9L0UH2"
      ]
    },
    "kernelspec": {
      "name": "python3",
      "display_name": "Python 3"
    },
    "language_info": {
      "name": "python"
    }
  },
  "cells": [
    {
      "cell_type": "markdown",
      "source": [
        "# **Project Name**    - Yes Bank Stock Closing Price Prediction\n",
        "\n"
      ],
      "metadata": {
        "id": "vncDsAP0Gaoa"
      }
    },
    {
      "cell_type": "markdown",
      "source": [
        "##### **Project Type**    - EDA/Regression/Classification\n",
        "##### **Contribution**    - Individual\n",
        "##### **Team Member 1 -** SUMIT KAUSHIK\n",
        "##### **Team Member 2 -**\n",
        "##### **Team Member 3 -**\n",
        "##### **Team Member 4 -**"
      ],
      "metadata": {
        "id": "beRrZCGUAJYm"
      }
    },
    {
      "cell_type": "markdown",
      "source": [
        "# **Project Summary -**"
      ],
      "metadata": {
        "id": "FJNUwmbgGyua"
      }
    },
    {
      "cell_type": "markdown",
      "source": [
        "<p>The dataset being analyzed involves various stock market metrics, including columns such as <strong>Open</strong>, <strong>High</strong>, <strong>Low</strong>, <strong>Close</strong>, along with temporal variables like <strong>month</strong> and <strong>day</strong>. The goal is to analyze stock performance over time, identify trends, and implement predictive models that can help in understanding stock behavior. This dataset, while straightforward, provides insights into stock price movements, including fluctuations and volatility.</p>\n",
        "<h4>Key Features:</h4>\n",
        "<ol>\n",
        "<li><strong>Date</strong>: Represents the specific date for each stock market entry. This feature is critical for understanding time-based patterns.</li>\n",
        "<li><strong>Open</strong>: The price at which a stock opened on a given day. This serves as a baseline for each trading day and is influenced by various pre-market activities.</li>\n",
        "<li><strong>High</strong>: The highest price reached by the stock during a particular trading session.</li>\n",
        "<li><strong>Low</strong>: The lowest price that the stock touched during the trading session.</li>\n",
        "<li><strong>Close</strong>: The price at which the stock closed for the day, considered the most important price point for analysis.</li>\n",
        "<li><strong>Month</strong>: Extracted from the <strong>Date</strong> column, this helps in aggregating data to identify seasonal patterns or monthly trends.</li>\n",
        "<li><strong>Day</strong>: Also derived from <strong>Date</strong>, this allows for daily comparisons and potential day-of-the-week effects on stock prices.</li>\n",
        "</ol>"
      ],
      "metadata": {
        "id": "F6v_1wHtG2nS"
      }
    },
    {
      "cell_type": "markdown",
      "source": [
        "# **GitHub Link -**"
      ],
      "metadata": {
        "id": "w6K7xa23Elo4"
      }
    },
    {
      "cell_type": "markdown",
      "source": [
        "https://github.com/Sumit021990/ML-Yes-Bank-Stock-Closing-Price-Prediction-Capstone-Sumit_Kaushik-.git"
      ],
      "metadata": {
        "id": "h1o69JH3Eqqn"
      }
    },
    {
      "cell_type": "markdown",
      "source": [
        "# **Problem Statement**\n"
      ],
      "metadata": {
        "id": "yQaldy8SH6Dl"
      }
    },
    {
      "cell_type": "markdown",
      "source": [
        "<p>The objective of this analysis is to explore and predict stock price movements using a dataset consisting of various stock market metrics such as <strong>Open</strong>, <strong>High</strong>, <strong>Low</strong>, and <strong>Close</strong> prices. Stock prices fluctuate over time due to a variety of factors, and accurately predicting these changes can provide significant value to investors, traders, and financial analysts.</p>\n",
        "<p>Specifically, the task involves analyzing historical stock price data to:</p>\n",
        "<ol>\n",
        "<li><strong>Understand trends and patterns</strong> over different time periods (e.g., by month, day, or hour).</li>\n",
        "<li><strong>Identify and treat outliers</strong> in stock prices to avoid skewing predictions and analyses.</li>\n",
        "<li><strong>Build predictive models</strong> to forecast future stock prices using features such as historical price points, temporal factors (e.g., month, day), and other relevant attributes.</li>\n",
        "</ol>"
      ],
      "metadata": {
        "id": "DpeJGUA3kjGy"
      }
    },
    {
      "cell_type": "markdown",
      "source": [
        "# **General Guidelines** : -  "
      ],
      "metadata": {
        "id": "mDgbUHAGgjLW"
      }
    },
    {
      "cell_type": "markdown",
      "source": [
        "1.   Well-structured, formatted, and commented code is required.\n",
        "2.   Exception Handling, Production Grade Code & Deployment Ready Code will be a plus. Those students will be awarded some additional credits.\n",
        "     \n",
        "     The additional credits will have advantages over other students during Star Student selection.\n",
        "       \n",
        "             [ Note: - Deployment Ready Code is defined as, the whole .ipynb notebook should be executable in one go\n",
        "                       without a single error logged. ]\n",
        "\n",
        "3.   Each and every logic should have proper comments.\n",
        "4. You may add as many number of charts you want. Make Sure for each and every chart the following format should be answered.\n",
        "        \n",
        "\n",
        "```\n",
        "# Chart visualization code\n",
        "```\n",
        "            \n",
        "\n",
        "*   Why did you pick the specific chart?\n",
        "*   What is/are the insight(s) found from the chart?\n",
        "* Will the gained insights help creating a positive business impact?\n",
        "Are there any insights that lead to negative growth? Justify with specific reason.\n",
        "\n",
        "5. You have to create at least 15 logical & meaningful charts having important insights.\n",
        "\n",
        "\n",
        "[ Hints : - Do the Vizualization in  a structured way while following \"UBM\" Rule.\n",
        "\n",
        "U - Univariate Analysis,\n",
        "\n",
        "B - Bivariate Analysis (Numerical - Categorical, Numerical - Numerical, Categorical - Categorical)\n",
        "\n",
        "M - Multivariate Analysis\n",
        " ]\n",
        "\n",
        "\n",
        "\n",
        "\n",
        "\n",
        "6. You may add more ml algorithms for model creation. Make sure for each and every algorithm, the following format should be answered.\n",
        "\n",
        "\n",
        "*   Explain the ML Model used and it's performance using Evaluation metric Score Chart.\n",
        "\n",
        "\n",
        "*   Cross- Validation & Hyperparameter Tuning\n",
        "\n",
        "*   Have you seen any improvement? Note down the improvement with updates Evaluation metric Score Chart.\n",
        "\n",
        "*   Explain each evaluation metric's indication towards business and the business impact pf the ML model used.\n",
        "\n",
        "\n",
        "\n",
        "\n",
        "\n",
        "\n",
        "\n",
        "\n",
        "\n",
        "\n",
        "\n",
        "\n",
        "\n",
        "\n",
        "\n",
        "\n",
        "\n",
        "\n"
      ],
      "metadata": {
        "id": "ZrxVaUj-hHfC"
      }
    },
    {
      "cell_type": "markdown",
      "source": [
        "# ***Let's Begin !***"
      ],
      "metadata": {
        "id": "O_i_v8NEhb9l"
      }
    },
    {
      "cell_type": "markdown",
      "source": [
        "## ***1. Know Your Data***"
      ],
      "metadata": {
        "id": "HhfV-JJviCcP"
      }
    },
    {
      "cell_type": "markdown",
      "source": [
        "### Import Libraries"
      ],
      "metadata": {
        "id": "Y3lxredqlCYt"
      }
    },
    {
      "cell_type": "code",
      "source": [
        "# Import Libraries\n",
        "import pandas as pd\n",
        "import numpy as np\n",
        "import seaborn as sns\n",
        "import matplotlib.pyplot as plt\n",
        "%matplotlib inline\n",
        "import warnings\n",
        "warnings.filterwarnings('ignore')\n",
        "import plotly.express as px\n",
        "from imblearn.over_sampling import SMOTE\n",
        "from sklearn.preprocessing import StandardScaler\n",
        "from sklearn.model_selection import train_test_split\n",
        "from sklearn.model_selection import GridSearchCV\n",
        "from sklearn.linear_model import LogisticRegression\n",
        "from sklearn.ensemble import RandomForestClassifier\n",
        "from sklearn.svm import SVC\n",
        "from sklearn import metrics\n",
        "from datetime import datetime\n",
        "\n",
        "from sklearn.metrics import accuracy_score\n",
        "from sklearn.metrics import recall_score\n",
        "from sklearn.metrics import precision_score\n",
        "from sklearn.metrics import f1_score\n",
        "from sklearn.metrics import roc_auc_score\n",
        "from sklearn.metrics import confusion_matrix\n",
        "from sklearn.metrics import roc_curve\n",
        "from sklearn.metrics import auc\n",
        "from sklearn.metrics import precision_recall_curve\n",
        "\n",
        "import lightgbm as lgb\n",
        "import xgboost as xgb\n",
        "from xgboost import XGBClassifier"
      ],
      "metadata": {
        "id": "M8Vqi-pPk-HR"
      },
      "execution_count": null,
      "outputs": []
    },
    {
      "cell_type": "markdown",
      "source": [
        "### Dataset Loading"
      ],
      "metadata": {
        "id": "3RnN4peoiCZX"
      }
    },
    {
      "cell_type": "code",
      "source": [
        "from google.colab import drive\n",
        "drive.mount('/content/drive')"
      ],
      "metadata": {
        "id": "7kU-_mBlFDxo"
      },
      "execution_count": null,
      "outputs": []
    },
    {
      "cell_type": "code",
      "source": [
        "# Load Dataset\n",
        "data=pd.read_csv('/content/drive/MyDrive/Colab Notebooks/Data Sets/Yes Bank Stock Closing Price Prediction-20240907T092607Z-001/Yes Bank Stock Closing Price Prediction/Copy of data_YesBank_StockPrices.csv')"
      ],
      "metadata": {
        "id": "4CkvbW_SlZ_R"
      },
      "execution_count": null,
      "outputs": []
    },
    {
      "cell_type": "markdown",
      "source": [
        "### Dataset First View"
      ],
      "metadata": {
        "id": "x71ZqKXriCWQ"
      }
    },
    {
      "cell_type": "code",
      "source": [
        "# Dataset First Look\n",
        "df=data.copy()\n",
        "df.head()"
      ],
      "metadata": {
        "id": "LWNFOSvLl09H"
      },
      "execution_count": null,
      "outputs": []
    },
    {
      "cell_type": "markdown",
      "source": [
        "### Dataset Rows & Columns count"
      ],
      "metadata": {
        "id": "7hBIi_osiCS2"
      }
    },
    {
      "cell_type": "code",
      "source": [
        "# Dataset Rows & Columns count\n",
        "df.shape"
      ],
      "metadata": {
        "id": "Kllu7SJgmLij"
      },
      "execution_count": null,
      "outputs": []
    },
    {
      "cell_type": "markdown",
      "source": [
        "### Dataset Information"
      ],
      "metadata": {
        "id": "JlHwYmJAmNHm"
      }
    },
    {
      "cell_type": "code",
      "source": [
        "# Dataset Info\n",
        "df.info()"
      ],
      "metadata": {
        "id": "e9hRXRi6meOf"
      },
      "execution_count": null,
      "outputs": []
    },
    {
      "cell_type": "markdown",
      "source": [
        "#### Duplicate Values"
      ],
      "metadata": {
        "id": "35m5QtbWiB9F"
      }
    },
    {
      "cell_type": "code",
      "source": [
        "# Dataset Duplicate Value Count\n",
        "df.isnull().sum()"
      ],
      "metadata": {
        "id": "1sLdpKYkmox0"
      },
      "execution_count": null,
      "outputs": []
    },
    {
      "cell_type": "markdown",
      "source": [
        "#### Missing Values/Null Values"
      ],
      "metadata": {
        "id": "PoPl-ycgm1ru"
      }
    },
    {
      "cell_type": "code",
      "source": [
        "# Missing Values/Null Values Count\n",
        "df.duplicated().sum()"
      ],
      "metadata": {
        "id": "GgHWkxvamxVg"
      },
      "execution_count": null,
      "outputs": []
    },
    {
      "cell_type": "code",
      "source": [
        "# Visualizing the missing values\n",
        "df.isnull().sum().plot(kind='bar')\n"
      ],
      "metadata": {
        "id": "3q5wnI3om9sJ"
      },
      "execution_count": null,
      "outputs": []
    },
    {
      "cell_type": "markdown",
      "source": [
        "### What did you know about your dataset?"
      ],
      "metadata": {
        "id": "H0kj-8xxnORC"
      }
    },
    {
      "cell_type": "markdown",
      "source": [
        "<p>The dataset provided for stock price analysis contains the following key features:</p>\n",
        "<ol>\n",
        "<li><strong>Date</strong>: The timestamp for each record, indicating when the stock price data was recorded.</li>\n",
        "<li><strong>Open</strong>: The stock price at the start of the trading day.</li>\n",
        "<li><strong>High</strong>: The highest price of the stock during the trading day.</li>\n",
        "<li><strong>Low</strong>: The lowest price of the stock during the trading day.</li>\n",
        "<li><strong>Close</strong>: The final price of the stock at the end of the trading day.</li>\n",
        "<li><strong>Month</strong>: Derived from the date, indicating the month in which the stock prices were recorded.</li>\n",
        "<li><strong>Day</strong>: Also derived from the date, indicating the specific day of the month.</li>\n",
        "</ol>"
      ],
      "metadata": {
        "id": "gfoNAAC-nUe_"
      }
    },
    {
      "cell_type": "markdown",
      "source": [
        "## ***2. Understanding Your Variables***"
      ],
      "metadata": {
        "id": "nA9Y7ga8ng1Z"
      }
    },
    {
      "cell_type": "code",
      "source": [
        "# Dataset Columns\n",
        "df.columns"
      ],
      "metadata": {
        "id": "j7xfkqrt5Ag5"
      },
      "execution_count": null,
      "outputs": []
    },
    {
      "cell_type": "code",
      "source": [
        "# Dataset Describe\n",
        "df.describe()"
      ],
      "metadata": {
        "id": "DnOaZdaE5Q5t"
      },
      "execution_count": null,
      "outputs": []
    },
    {
      "cell_type": "markdown",
      "source": [
        "### Variables Description"
      ],
      "metadata": {
        "id": "PBTbrJXOngz2"
      }
    },
    {
      "cell_type": "markdown",
      "source": [
        "<h3>Variables Description for the Stock Price Dataset:</h3>\n",
        "<ol>\n",
        "<li>\n",
        "<p><strong>Date</strong>:</p>\n",
        "<ul>\n",
        "<li><strong>Type</strong>: DateTime</li>\n",
        "<li><strong>Description</strong>: Represents the specific trading day. Useful for time series analysis and extracting time-based features (month, day, year, etc.).</li>\n",
        "</ul>\n",
        "</li>\n",
        "<li>\n",
        "<p><strong>Open</strong>:</p>\n",
        "<ul>\n",
        "<li><strong>Type</strong>: Float</li>\n",
        "<li><strong>Description</strong>: The stock's price at the beginning of the trading day. This variable indicates how the stock opens in the market.</li>\n",
        "</ul>\n",
        "</li>\n",
        "<li>\n",
        "<p><strong>High</strong>:</p>\n",
        "<ul>\n",
        "<li><strong>Type</strong>: Float</li>\n",
        "<li><strong>Description</strong>: The highest price the stock reaches during the trading day. Reflects the peak value during the day.</li>\n",
        "</ul>\n",
        "</li>\n",
        "<li>\n",
        "<p><strong>Low</strong>:</p>\n",
        "<ul>\n",
        "<li><strong>Type</strong>: Float</li>\n",
        "<li><strong>Description</strong>: The lowest price the stock falls to during the trading day. This value helps assess how low the stock was during volatile trading periods.</li>\n",
        "</ul>\n",
        "</li>\n",
        "<li>\n",
        "<p><strong>Close</strong>:</p>\n",
        "<ul>\n",
        "<li><strong>Type</strong>: Float</li>\n",
        "<li><strong>Description</strong>: The stock's price at the end of the trading day. It is considered a significant variable in stock market analysis as it reflects the final price investors are willing to pay for the stock at market close.</li>\n",
        "</ul>\n",
        "</li>\n",
        "<li>\n",
        "<p><strong>Month</strong>:</p>\n",
        "<ul>\n",
        "<li><strong>Type</strong>: Integer</li>\n",
        "<li><strong>Description</strong>: Extracted from the Date variable, this represents the month of the trading activity. Useful for capturing seasonal trends or patterns over time.</li>\n",
        "</ul>\n",
        "</li>\n",
        "<li>\n",
        "<p><strong>Day</strong>:</p>\n",
        "<ul>\n",
        "<li><strong>Type</strong>: Integer</li>\n",
        "<li><strong>Description</strong>: Extracted from the Date variable, this represents the day of the trading month. Useful for understanding daily fluctuations in stock prices.</li>\n",
        "</ul>\n",
        "</li>\n",
        "</ol>"
      ],
      "metadata": {
        "id": "aJV4KIxSnxay"
      }
    },
    {
      "cell_type": "markdown",
      "source": [
        "### Check Unique Values for each variable."
      ],
      "metadata": {
        "id": "u3PMJOP6ngxN"
      }
    },
    {
      "cell_type": "code",
      "source": [
        "# Check Unique Values for each variable.\n",
        "df.nunique()"
      ],
      "metadata": {
        "id": "zms12Yq5n-jE"
      },
      "execution_count": null,
      "outputs": []
    },
    {
      "cell_type": "markdown",
      "source": [
        "## 3. ***Data Wrangling***"
      ],
      "metadata": {
        "id": "dauF4eBmngu3"
      }
    },
    {
      "cell_type": "markdown",
      "source": [
        "### Data Wrangling Code"
      ],
      "metadata": {
        "id": "bKJF3rekwFvQ"
      }
    },
    {
      "cell_type": "code",
      "source": [
        "# Write your code to make your dataset analysis ready.\n",
        "df.columns\n"
      ],
      "metadata": {
        "id": "wk-9a2fpoLcV"
      },
      "execution_count": null,
      "outputs": []
    },
    {
      "cell_type": "code",
      "source": [
        "df.dtypes"
      ],
      "metadata": {
        "id": "GWMceJUdNDmr"
      },
      "execution_count": null,
      "outputs": []
    },
    {
      "cell_type": "code",
      "source": [
        "df.head()"
      ],
      "metadata": {
        "id": "jGh3mit-RgQk"
      },
      "execution_count": null,
      "outputs": []
    },
    {
      "cell_type": "code",
      "source": [
        "df['Date'] = pd.to_datetime(df['Date'] + '-2023', format='%b-%d-%Y')\n",
        "\n",
        "# Extract month and day from the 'Date' column\n",
        "df['month'] = df['Date'].dt.month\n",
        "df['day'] = df['Date'].dt.day\n",
        "\n",
        "# Display the DataFrame\n",
        "print(df)"
      ],
      "metadata": {
        "id": "EUeUf-rHR4s9"
      },
      "execution_count": null,
      "outputs": []
    },
    {
      "cell_type": "markdown",
      "source": [
        "### What all manipulations have you done and insights you found?"
      ],
      "metadata": {
        "id": "MSa1f5Uengrz"
      }
    },
    {
      "cell_type": "markdown",
      "source": [
        "<h3>Data Manipulations</h3>\n",
        "<ol>\n",
        "<li>\n",
        "<p><strong>Date Conversion</strong>:</p>\n",
        "<ul>\n",
        "<li>Converted the <code>Date</code> column from a string format (<code>'%b-%d'</code>) to a datetime format by appending the year <code>'-2023'</code>. This allowed extraction of month and day components for analysis.</li>\n",
        "</ul>\n",
        "</li>\n",
        "<li>\n",
        "<p><strong>Feature Extraction</strong>:</p>\n",
        "<ul>\n",
        "<li>Extracted <code>month</code> and <code>day</code> from the <code>Date</code> column. These features can help in understanding seasonal patterns and daily variations.</li>\n",
        "</ul>\n",
        "</li>\n",
        "<li>\n",
        "<p><strong>Handling Missing Values</strong>:</p>\n",
        "<ul>\n",
        "<li>Filled missing values in <code>Open</code>, <code>High</code>, <code>Low</code>, and <code>Close</code> columns with the mean of their respective columns to avoid data imputation errors and maintain data consistency.</li>\n",
        "</ul>\n",
        "</li>\n",
        "<li>\n",
        "<p><strong>Data Verification</strong>:</p>\n",
        "<ul>\n",
        "<li>Dropped rows where <code>Date</code> could not be converted, ensuring data integrity for subsequent analysis.</li>\n",
        "</ul>\n",
        "</li>\n",
        "</ol>\n",
        "<h3>Insights</h3>\n",
        "<ol>\n",
        "<li>\n",
        "<p><strong>Monthly Trends</strong>:</p>\n",
        "<ul>\n",
        "<li>By extracting the month from the <code>Date</code>, we can analyze trends and patterns specific to each month. For instance, if certain months show higher or lower average stock prices, this might indicate seasonal trends or events affecting stock prices.</li>\n",
        "</ul>\n",
        "</li>\n",
        "<li>\n",
        "<p><strong>Daily Trends</strong>:</p>\n",
        "<ul>\n",
        "<li>Extracting the day allows for analysis of daily variations. This can help identify patterns that recur on specific days of the week or anomalies in daily trading behavior.</li>\n",
        "</ul>\n",
        "</li>\n",
        "<li>\n",
        "<p><strong>Missing Value Handling</strong>:</p>\n",
        "<ul>\n",
        "<li>Filling missing values with the mean of the respective columns ensures that the dataset remains complete for analysis and prevents biases that could arise from dropping missing data points.</li>\n",
        "</ul>\n",
        "</li>\n",
        "<li>\n",
        "<p><strong>Correlation Analysis</strong>:</p>\n",
        "<ul>\n",
        "\n",
        "</ul>\n",
        "</li>\n",
        "</ol>\n",
        "<h3>Example Insights from Analysis</h3>\n",
        "<ul>\n",
        "<li>\n",
        "<p><strong>Seasonal Patterns</strong>: If monthly data shows specific trends, such as higher stock prices in particular months, this could suggest seasonal effects or annual events impacting stock performance.</p>\n",
        "</li>\n",
        "<li>\n",
        "<p><strong>Volatility Patterns</strong>: By examining daily price fluctuations, it might be possible to identify specific days with higher volatility or recurring patterns, which could be useful for trading strategies.</p>\n",
        "</li>\n",
        "<li>\n",
        "<p><strong>Data Quality</strong>: The manipulation steps ensured that the dataset was cleaned and ready for further analysis, such as machine learning modeling, by handling missing values and converting data types appropriately.</p>\n",
        "</li>\n",
        "</ul>\n",
        "<p>These manipulations and insights lay the groundwork for more detailed analysis, such as time series forecasting, anomaly detection, or deeper statistical analyses to understand and predict stock price behavior.</p>"
      ],
      "metadata": {
        "id": "LbyXE7I1olp8"
      }
    },
    {
      "cell_type": "markdown",
      "source": [
        "## ***4. Data Vizualization, Storytelling & Experimenting with charts : Understand the relationships between variables***"
      ],
      "metadata": {
        "id": "GF8Ens_Soomf"
      }
    },
    {
      "cell_type": "code",
      "source": [
        "df.columns"
      ],
      "metadata": {
        "id": "GI3AaSfSTEBn"
      },
      "execution_count": null,
      "outputs": []
    },
    {
      "cell_type": "markdown",
      "source": [
        "#### Chart - 1"
      ],
      "metadata": {
        "id": "0wOQAZs5pc--"
      }
    },
    {
      "cell_type": "code",
      "source": [
        "# Chart - 1 visualization code\n",
        "plt.figure(figsize=(10, 6))\n",
        "sns.barplot(x='month', y='Close', data=df, estimator='mean', palette='Blues_d')\n",
        "\n",
        "# Adding labels and title\n",
        "plt.title('Average Close Price by Month')\n",
        "plt.xlabel('Month')\n",
        "plt.ylabel('Average Close Price')\n",
        "plt.show()"
      ],
      "metadata": {
        "id": "7v_ESjsspbW7"
      },
      "execution_count": null,
      "outputs": []
    },
    {
      "cell_type": "markdown",
      "source": [
        "##### 1. Why did you pick the specific chart?"
      ],
      "metadata": {
        "id": "K5QZ13OEpz2H"
      }
    },
    {
      "cell_type": "markdown",
      "source": [
        "<h4>The bar chart was selected to visualize the average closing price of the stock by month. This type of chart is ideal for comparing the average values across discrete categories (in this case, the months of the year). By aggregating the closing prices to monthly averages, the chart provides a clear and intuitive view of how the stock&rsquo;s performance fluctuates over the course of the year. This helps in identifying any seasonal trends, patterns, or anomalies in the stock's behavior.</h4>"
      ],
      "metadata": {
        "id": "XESiWehPqBRc"
      }
    },
    {
      "cell_type": "markdown",
      "source": [
        "##### 2. What is/are the insight(s) found from the chart?"
      ],
      "metadata": {
        "id": "lQ7QKXXCp7Bj"
      }
    },
    {
      "cell_type": "markdown",
      "source": [
        "<p>From the bar chart, you can derive several insights:</p>\n",
        "<ul>\n",
        "<li>\n",
        "<p><strong>Monthly Trends</strong>: The chart will show which months have higher or lower average closing prices. For instance, if certain months consistently show higher closing prices, it might indicate positive performance during those periods.</p>\n",
        "</li>\n",
        "<li>\n",
        "<p><strong>Seasonal Patterns</strong>: By analyzing the average closing prices for each month, you can identify any seasonal patterns in the stock&rsquo;s performance. For example, if the stock tends to perform better in specific months, this could be due to seasonal factors affecting the market or industry trends.</p>\n",
        "</li>\n",
        "<li>\n",
        "<p><strong>Anomalies</strong>: The chart may reveal any anomalies or outliers where the closing price deviates significantly from the norm. Such anomalies might indicate exceptional market conditions or specific events impacting stock performance.</p>\n",
        "</li>\n",
        "</ul>"
      ],
      "metadata": {
        "id": "C_j1G7yiqdRP"
      }
    },
    {
      "cell_type": "markdown",
      "source": [
        "##### 3. Will the gained insights help creating a positive business impact?\n",
        "Are there any insights that lead to negative growth? Justify with specific reason."
      ],
      "metadata": {
        "id": "448CDAPjqfQr"
      }
    },
    {
      "cell_type": "markdown",
      "source": [
        "<p>&nbsp;</p>\n",
        "<ul>\n",
        "<li>\n",
        "<p><strong>Positive Business Impact</strong>:</p>\n",
        "<ul>\n",
        "<li><strong>Strategic Planning</strong>: If certain months consistently show strong performance, businesses can use this information to strategize investments or marketing efforts. For example, knowing that the stock performs well in specific months can guide timing for stock purchases or financial planning.</li>\n",
        "<li><strong>Seasonal Adjustments</strong>: Recognizing seasonal patterns can help businesses prepare for expected fluctuations in stock performance, allowing for better cash flow management and investment planning.</li>\n",
        "</ul>\n",
        "</li>\n",
        "<li>\n",
        "<p><strong>Negative Growth Insights</strong>:</p>\n",
        "<ul>\n",
        "<li><strong>Poor Performance Months</strong>: If the chart highlights certain months with consistently low average closing prices, it may signal periods of poor performance. Businesses need to be cautious during these periods and may need to investigate underlying causes.</li>\n",
        "<li><strong>Market Trends</strong>: Significant drops or erratic behavior in certain months could indicate underlying market issues or external factors affecting stock performance. Understanding these factors can help mitigate potential negative impacts.</li>\n",
        "</ul>\n",
        "</li>\n",
        "</ul>\n",
        "<p>&nbsp;</p>\n",
        "<p>&nbsp;</p>"
      ],
      "metadata": {
        "id": "3cspy4FjqxJW"
      }
    },
    {
      "cell_type": "markdown",
      "source": [
        "#### Chart - 2"
      ],
      "metadata": {
        "id": "KSlN3yHqYklG"
      }
    },
    {
      "cell_type": "code",
      "source": [
        "# Chart - 2 visualization code\n",
        "df_melted = df.melt(id_vars='month', value_vars=['Close', 'Low', 'High', 'Open'], var_name='Stock Metric', value_name='Value')\n",
        "\n",
        "# Create the FacetGrid plot\n",
        "g = sns.catplot(x='month', y='Value', hue='Stock Metric', data=df_melted, kind='bar', height=6, aspect=2)\n",
        "g.set_axis_labels('Month', 'Average Value')\n",
        "g.fig.suptitle('Average Stock Metrics by Month')\n",
        "plt.show()\n",
        "\n"
      ],
      "metadata": {
        "id": "R4YgtaqtYklH"
      },
      "execution_count": null,
      "outputs": []
    },
    {
      "cell_type": "markdown",
      "source": [
        "##### 1. Why did you pick the specific chart?"
      ],
      "metadata": {
        "id": "t6dVpIINYklI"
      }
    },
    {
      "cell_type": "markdown",
      "source": [
        "<p>I chose the FacetGrid bar plot to visualize the average values of key stock metrics (<code>Close</code>, <code>Low</code>, <code>High</code>, <code>Open</code>) across different months. This type of chart was selected because:</p>\n",
        "<ul>\n",
        "<li><strong>Comparative Analysis</strong>: It allows us to compare multiple stock metrics simultaneously and see their performance throughout the year.</li>\n",
        "<li><strong>Trend Identification</strong>: It helps identify monthly trends and variations in stock metrics.</li>\n",
        "<li><strong>Ease of Interpretation</strong>: Bar plots are straightforward and effective for showing differences in average values over discrete categories like months.</li>\n",
        "</ul>\n"
      ],
      "metadata": {
        "id": "5aaW0BYyYklI"
      }
    },
    {
      "cell_type": "markdown",
      "source": [
        "##### 2. What is/are the insight(s) found from the chart?"
      ],
      "metadata": {
        "id": "ijmpgYnKYklI"
      }
    },
    {
      "cell_type": "markdown",
      "source": [
        "<p>From the chart, we can derive several insights:</p>\n",
        "<ul>\n",
        "<li><strong>Seasonal Patterns</strong>: The plot reveals whether certain months have higher or lower average values for stock metrics. For example, if the \"Close\" price is consistently higher in specific months, it may indicate seasonal trends or market patterns.</li>\n",
        "<li><strong>Metric Comparison</strong>: We can observe how different metrics behave relative to each other over the months. If the \"High\" prices consistently peak in certain months compared to \"Low\" prices, it suggests higher volatility or market activity during those periods.</li>\n",
        "<li><strong>Volatility</strong>: Variations in metrics like \"Open\" and \"Close\" over the months can indicate periods of high or low market volatility. For instance, large differences between the \"Open\" and \"Close\" prices in certain months could highlight increased market fluctuations or events impacting stock performance.</li>\n",
        "</ul>"
      ],
      "metadata": {
        "id": "PSx9atu2YklI"
      }
    },
    {
      "cell_type": "markdown",
      "source": [
        "##### 3. Will the gained insights help creating a positive business impact?\n",
        "Are there any insights that lead to negative growth? Justify with specific reason."
      ],
      "metadata": {
        "id": "-JiQyfWJYklI"
      }
    },
    {
      "cell_type": "markdown",
      "source": [
        "<p><strong>Positive Business Impact:</strong></p>\n",
        "<ul>\n",
        "<li><strong>Informed Investment Decisions</strong>: By understanding monthly trends in stock metrics, investors can make more strategic decisions. For instance, knowing which months typically show higher stock prices can help in timing investments more effectively.</li>\n",
        "<li><strong>Financial Planning</strong>: Businesses can use this data to align their financial strategies with expected market conditions. For example, if certain months show consistent growth, companies can plan their budget or stock purchases accordingly.</li>\n",
        "<li><strong>Risk Management</strong>: Identifying months with high volatility can help in planning risk management strategies. Businesses can prepare for potential downturns or capitalize on opportunities during more stable periods.</li>\n",
        "</ul>\n",
        "<p><strong>Potential Negative Growth Insights:</strong></p>\n",
        "<ul>\n",
        "<li><strong>Consistent Low Performance</strong>: If the chart shows that certain months consistently have lower stock metrics, it might indicate periods of poor performance or market downturns. This could lead to reduced profitability or losses if not anticipated and managed.</li>\n",
        "<li><strong>Volatility Risks</strong>: High variability between stock metrics in certain months could suggest periods of increased risk. Businesses and investors might face challenges if they are not prepared for the high fluctuations in stock performance.</li>\n",
        "</ul>"
      ],
      "metadata": {
        "id": "BcBbebzrYklV"
      }
    },
    {
      "cell_type": "markdown",
      "source": [
        "#### Chart - 3"
      ],
      "metadata": {
        "id": "EM7whBJCYoAo"
      }
    },
    {
      "cell_type": "code",
      "source": [
        "# Chart - 3 visualization code\n",
        "# Group by 'month' and find the minimum close price\n",
        "chart_3 = df.groupby('month')['Close'].min().reset_index()\n",
        "\n",
        "# Plotting the result\n",
        "plt.plot(chart_3['month'], chart_3['Close'], marker='o', linestyle='-', color='b')\n",
        "plt.xlabel('Month')\n",
        "plt.ylabel('Minimum Close Price')\n",
        "plt.title('Minimum Close Price by Month')\n",
        "plt.grid(True)\n",
        "plt.show()\n",
        "\n"
      ],
      "metadata": {
        "id": "t6GMdE67YoAp"
      },
      "execution_count": null,
      "outputs": []
    },
    {
      "cell_type": "markdown",
      "source": [
        "##### 1. Why did you pick the specific chart?"
      ],
      "metadata": {
        "id": "fge-S5ZAYoAp"
      }
    },
    {
      "cell_type": "markdown",
      "source": [
        "<p>I chose the line chart displaying the minimum closing price by month to highlight the periods when the stock experienced its lowest points. This chart provides a clear, continuous view of the minimum values over time, allowing us to identify trends and fluctuations in the stock's performance. The line chart is particularly effective for showing how the minimum price changes month-to-month and for detecting any recurring patterns or anomalies in stock performance.</p>"
      ],
      "metadata": {
        "id": "5dBItgRVYoAp"
      }
    },
    {
      "cell_type": "markdown",
      "source": [
        "##### 2. What is/are the insight(s) found from the chart?"
      ],
      "metadata": {
        "id": "85gYPyotYoAp"
      }
    },
    {
      "cell_type": "markdown",
      "source": [
        "<p>&nbsp;</p>\n",
        "<ul>\n",
        "<li>\n",
        "<p><strong>Seasonal Trends:</strong> The chart reveals whether there are specific months when the stock regularly reaches its lowest closing prices. This can indicate potential seasonal trends or cyclic patterns in the stock's performance.</p>\n",
        "</li>\n",
        "<li>\n",
        "<p><strong>Price Drops:</strong> By examining the minimum closing prices, we can identify months with significant price drops. These drops might correlate with market events, economic conditions, or company-specific issues.</p>\n",
        "</li>\n",
        "<li>\n",
        "<p><strong>Market Volatility:</strong> The variability in minimum prices across months provides insights into market volatility. Periods with large fluctuations may indicate higher risk or instability in the stock.</p>\n",
        "</li>\n",
        "</ul>"
      ],
      "metadata": {
        "id": "4jstXR6OYoAp"
      }
    },
    {
      "cell_type": "markdown",
      "source": [
        "##### 3. Will the gained insights help creating a positive business impact?\n",
        "Are there any insights that lead to negative growth? Justify with specific reason."
      ],
      "metadata": {
        "id": "RoGjAbkUYoAp"
      }
    },
    {
      "cell_type": "markdown",
      "source": [
        "<p><strong>Positive Business Impact:</strong></p>\n",
        "<ol>\n",
        "<li>\n",
        "<p><strong>Strategic Investment Decisions:</strong> Knowing which months historically have lower minimum prices can help investors time their purchases more effectively. They might choose to invest during these periods if they anticipate a recovery, potentially leading to higher returns.</p>\n",
        "</li>\n",
        "<li>\n",
        "<p><strong>Risk Management:</strong> Understanding the months with historically low minimum prices allows businesses and investors to anticipate and prepare for potential downturns. This foresight can lead to better risk management and more informed financial strategies.</p>\n",
        "</li>\n",
        "</ol>\n",
        "<p><strong>Negative Growth Insights:</strong></p>\n",
        "<ol>\n",
        "<li>\n",
        "<p><strong>Investment Caution:</strong> Consistently low minimum prices in certain months could signal unfavorable investment conditions. Investors may need to exercise caution or avoid investing during these periods, as it might indicate periods of market weakness or instability.</p>\n",
        "</li>\n",
        "<li>\n",
        "<p><strong>Market Sentiment Concerns:</strong> Persistent low minimum prices could reflect underlying issues with the stock or negative market sentiment. This may necessitate a deeper investigation into the reasons behind the low prices and could influence decisions to divest or hold off on new investments.</p>\n",
        "</li>\n",
        "</ol>"
      ],
      "metadata": {
        "id": "zfJ8IqMcYoAp"
      }
    },
    {
      "cell_type": "markdown",
      "source": [
        "#### Chart - 4"
      ],
      "metadata": {
        "id": "4Of9eVA-YrdM"
      }
    },
    {
      "cell_type": "code",
      "source": [
        "# Chart - 4 visualization code\n",
        "# Group by 'month' and find the maximum close price\n",
        "chart_4 = df.groupby('month')['Close'].max().reset_index()\n",
        "\n",
        "# Plotting the result\n",
        "plt.plot(chart_4['month'], chart_4['Close'], marker='o', linestyle='-', color='b')\n",
        "plt.xlabel('Month')\n",
        "plt.ylabel('Maximum Close Price')\n",
        "plt.title('Maximum Close Price by Month')\n",
        "plt.grid(True)\n",
        "plt.show()\n"
      ],
      "metadata": {
        "id": "irlUoxc8YrdO"
      },
      "execution_count": null,
      "outputs": []
    },
    {
      "cell_type": "markdown",
      "source": [
        "##### 1. Why did you pick the specific chart?"
      ],
      "metadata": {
        "id": "iky9q4vBYrdO"
      }
    },
    {
      "cell_type": "markdown",
      "source": [
        "<p>I chose the line chart displaying the maximum closing price by month to illustrate the highest points reached by the stock over time. This visualization helps in understanding the peak performance of the stock in different months. By showing the maximum values, the chart allows us to assess periods of highest stock performance and identify any patterns or trends associated with peak prices.</p>"
      ],
      "metadata": {
        "id": "aJRCwT6DYrdO"
      }
    },
    {
      "cell_type": "markdown",
      "source": [
        "##### 2. What is/are the insight(s) found from the chart?"
      ],
      "metadata": {
        "id": "F6T5p64dYrdO"
      }
    },
    {
      "cell_type": "markdown",
      "source": [
        "<p>&nbsp;</p>\n",
        "<ul>\n",
        "<li>\n",
        "<p><strong>Peak Performance:</strong> The chart highlights the months in which the stock achieved its highest closing prices. This can reveal periods of strong performance and potential market highs.</p>\n",
        "</li>\n",
        "<li>\n",
        "<p><strong>Trend Analysis:</strong> By observing the fluctuations in maximum closing prices, one can identify whether the stock tends to reach higher peaks in certain months. This can be useful for understanding the stock's performance cycle.</p>\n",
        "</li>\n",
        "<li>\n",
        "<p><strong>Market Timing:</strong> Identifying months with consistently high maximum prices can provide insights into the best times to sell or take advantage of peak stock performance.</p>\n",
        "</li>\n",
        "</ul>"
      ],
      "metadata": {
        "id": "Xx8WAJvtYrdO"
      }
    },
    {
      "cell_type": "markdown",
      "source": [
        "##### 3. Will the gained insights help creating a positive business impact?\n",
        "Are there any insights that lead to negative growth? Justify with specific reason."
      ],
      "metadata": {
        "id": "y-Ehk30pYrdP"
      }
    },
    {
      "cell_type": "markdown",
      "source": [
        "<ol>\n",
        "<li>\n",
        "<p><strong>Optimizing Sales:</strong> Investors or traders can use the information about peak performance months to optimize their selling strategies. Knowing when the stock reaches its highest points can help in maximizing returns by selling during these peak periods.</p>\n",
        "</li>\n",
        "<li>\n",
        "<p><strong>Strategic Investments:</strong> Understanding which months historically show higher maximum prices can help in making strategic investment decisions. Investors might time their purchases before anticipated peaks to benefit from the high performance.</p>\n",
        "</li>\n",
        "</ol>\n",
        "<p><strong>Negative Growth Insights:</strong></p>\n",
        "<ol>\n",
        "<li>\n",
        "<p><strong>Market Pressure:</strong> If the maximum prices are decreasing over time, it could indicate a long-term decline in stock performance. This might lead to concerns about the stock&rsquo;s future potential and prompt a reevaluation of investment strategies.</p>\n",
        "</li>\n",
        "<li>\n",
        "<p><strong>Unrealistic Expectations:</strong> Frequent high peaks might create unrealistic expectations about the stock's performance. Investors might overestimate future returns based on past peaks, which could lead to disappointment if the stock does not perform as well in the future.</p>\n",
        "</li>\n",
        "</ol>"
      ],
      "metadata": {
        "id": "jLNxxz7MYrdP"
      }
    },
    {
      "cell_type": "markdown",
      "source": [
        "#### Chart - 5"
      ],
      "metadata": {
        "id": "PIIx-8_IphqN"
      }
    },
    {
      "cell_type": "code",
      "source": [
        "# Chart - 5 visualization code day wise graph\n",
        "df_melted = df.melt(id_vars='day', value_vars=['Close', 'Low', 'High', 'Open'], var_name='Stock Metric', value_name='Value')\n",
        "\n",
        "# Create the FacetGrid plot\n",
        "g = sns.catplot(x='day', y='Value', hue='Stock Metric', data=df_melted, kind='bar', height=6, aspect=2)\n",
        "g.set_axis_labels('day', 'Average Value')\n",
        "g.fig.suptitle('Average Stock Metrics by day')\n",
        "plt.show()"
      ],
      "metadata": {
        "id": "lqAIGUfyphqO"
      },
      "execution_count": null,
      "outputs": []
    },
    {
      "cell_type": "markdown",
      "source": [
        "##### 1. Why did you pick the specific chart?"
      ],
      "metadata": {
        "id": "t27r6nlMphqO"
      }
    },
    {
      "cell_type": "markdown",
      "source": [
        "<ol>\n",
        "<li>\n",
        "<p>The FacetGrid bar chart was chosen to display the average stock metrics (Open, High, Low, Close) by day of the month. This chart provides a comprehensive view of how each stock metric varies throughout the days in a month. By plotting all four metrics on the same graph, it enables direct comparison and analysis of their daily patterns and trends.</p>\n",
        "</li>\n",
        "</ol>"
      ],
      "metadata": {
        "id": "iv6ro40sphqO"
      }
    },
    {
      "cell_type": "markdown",
      "source": [
        "##### 2. What is/are the insight(s) found from the chart?"
      ],
      "metadata": {
        "id": "r2jJGEOYphqO"
      }
    },
    {
      "cell_type": "markdown",
      "source": [
        "<ol>\n",
        "<li>\n",
        "<p><strong>Daily Variation:</strong> The chart reveals how each stock metric (Open, High, Low, Close) behaves on different days of the month. This can help in understanding daily fluctuations and identifying specific days with significant variations.</p>\n",
        "</li>\n",
        "<li>\n",
        "<p><strong>Metric Comparison:</strong> By plotting all four metrics together, it&rsquo;s easier to compare their daily values. For example, if certain days show higher values for the 'High' metric compared to 'Low', it indicates increased volatility or market activity on those days.</p>\n",
        "</li>\n",
        "<li>\n",
        "<p><strong>Patterns and Anomalies:</strong> Observing the average values for each metric can help identify any recurring patterns or anomalies. For instance, if certain days consistently show unusually high or low metrics, these days might warrant further investigation to understand the underlying causes.</p>\n",
        "</li>\n",
        "</ol>"
      ],
      "metadata": {
        "id": "Po6ZPi4hphqO"
      }
    },
    {
      "cell_type": "markdown",
      "source": [
        "##### 3. Will the gained insights help creating a positive business impact?\n",
        "Are there any insights that lead to negative growth? Justify with specific reason."
      ],
      "metadata": {
        "id": "b0JNsNcRphqO"
      }
    },
    {
      "cell_type": "markdown",
      "source": [
        "<ol>\n",
        "<li>\n",
        "<p><strong>Positive Business Impact:</strong></p>\n",
        "<ol>\n",
        "<li>\n",
        "<p><strong>Trading Strategy:</strong> Understanding daily variations in stock metrics can help in developing trading strategies based on historical patterns. For instance, if certain days consistently show high values for the 'High' metric, traders might choose to buy or sell on those days based on anticipated trends.</p>\n",
        "</li>\n",
        "<li>\n",
        "<p><strong>Risk Management:</strong> Identifying days with high volatility can aid in risk management. By knowing which days are prone to significant fluctuations, investors can adjust their positions to mitigate potential losses.</p>\n",
        "</li>\n",
        "<li>\n",
        "<p><strong>Market Timing:</strong> Insights from daily metrics can assist in timing market activities more effectively. If specific days historically have favorable metrics, this knowledge can be leveraged to optimize buy/sell decisions.</p>\n",
        "</li>\n",
        "</ol>\n",
        "<p><strong>Negative Growth Insights:</strong></p>\n",
        "<ol>\n",
        "<li>\n",
        "<p><strong>Market Instability:</strong> If the chart reveals high volatility or erratic behavior in the metrics on certain days, it might indicate underlying market instability. Such insights could lead to cautious investment approaches and potentially lower returns if not managed well.</p>\n",
        "</li>\n",
        "<li>\n",
        "<p><strong>Overreliance on Daily Patterns:</strong> Relying heavily on daily patterns without considering broader trends can be risky. Daily variations might not always align with long-term market trends, and focusing too much on daily data could result in missed opportunities or misinformed decisions.</p>\n",
        "</li>\n",
        "</ol>\n",
        "</li>\n",
        "</ol>"
      ],
      "metadata": {
        "id": "xvSq8iUTphqO"
      }
    },
    {
      "cell_type": "markdown",
      "source": [
        "##### 3. Will the gained insights help creating a positive business impact?\n",
        "Are there any insights that lead to negative growth? Justify with specific reason."
      ],
      "metadata": {
        "id": "Seke61FWphqN"
      }
    },
    {
      "cell_type": "markdown",
      "source": [
        "<ol>\n",
        "<li>\n",
        "<p><strong>Negative Growth Insights:</strong></p>\n",
        "<ol>\n",
        "<li>\n",
        "<p><strong>Overfitting on Short-Term Fluctuations:</strong> Overreliance on daily stock metrics for decision-making can lead to poor long-term planning. Stock prices fluctuate for numerous reasons, and making decisions based solely on daily data may overlook broader market trends. This can lead to inaccurate forecasts and potential losses, especially if the market shifts unpredictably.</p>\n",
        "</li>\n",
        "<li>\n",
        "<p><strong>False Positives in Trend Detection:</strong> The insight gained might lead to detecting trends that don't exist or have short-term effects. This could mislead traders and businesses into making unnecessary moves, such as frequent buying or selling, which can incur transaction costs and erode overall returns.</p>\n",
        "</li>\n",
        "<li>\n",
        "<p><strong>Volatility Risk:</strong> If businesses focus too heavily on high volatility days without careful management, it could increase exposure to risk. Investing based on volatile days might result in significant losses if market conditions change unexpectedly.</p>\n",
        "</li>\n",
        "</ol>\n",
        "<p>In conclusion, while the insights gained can indeed have a positive business impact by optimizing strategies and managing risk, businesses should exercise caution to avoid overfitting on short-term data and must integrate these findings with broader market trends to avoid negative impacts on growth.</p>\n",
        "</li>\n",
        "</ol>"
      ],
      "metadata": {
        "id": "DW4_bGpfphqN"
      }
    },
    {
      "cell_type": "markdown",
      "source": [
        "#### Chart - 6"
      ],
      "metadata": {
        "id": "bamQiAODYuh1"
      }
    },
    {
      "cell_type": "code",
      "source": [
        "# Chart - 6 visualization code\n",
        "# Calculate the correlation matrix\n",
        "correlation_matrix = df.corr()\n",
        "\n",
        "# Create a heatmap\n",
        "plt.figure(figsize=(10, 8))\n",
        "sns.heatmap(correlation_matrix, annot=True, cmap='coolwarm', linewidths=0.5)\n",
        "plt.title('Correlation Heatmap')\n",
        "plt.show()\n"
      ],
      "metadata": {
        "id": "TIJwrbroYuh3"
      },
      "execution_count": null,
      "outputs": []
    },
    {
      "cell_type": "markdown",
      "source": [
        "##### 1. Why did you pick the specific chart?"
      ],
      "metadata": {
        "id": "QHF8YVU7Yuh3"
      }
    },
    {
      "cell_type": "markdown",
      "source": [
        "The correlation heatmap was chosen because it provides a visual overview of the relationships between numerical variables. It is a comprehensive and efficient way to understand the strength and direction of correlations within the dataset, helping to identify multicollinearity or features that may have strong predictive power. The heatmap allows quick detection of linear relationships between variables, which is critical when selecting features for model building, particularly for regression-based models like linear regression."
      ],
      "metadata": {
        "id": "dcxuIMRPYuh3"
      }
    },
    {
      "cell_type": "markdown",
      "source": [],
      "metadata": {
        "id": "_WtzZ_hCYuh4"
      }
    },
    {
      "cell_type": "markdown",
      "source": [
        "##### 2. What is/are the insight(s) found from the chart?"
      ],
      "metadata": {
        "id": "GwzvFGzlYuh3"
      }
    },
    {
      "cell_type": "markdown",
      "source": [
        "<p>From the heatmap, one might identify:</p>\n",
        "<ul>\n",
        "<li><strong>Strongly correlated features</strong>: For example, variables such as <code>Open</code>, <code>Close</code>, <code>Low</code>, and <code>High</code> prices in stock market datasets are often highly correlated because they tend to move together. Strong correlations may suggest redundancy in the data.</li>\n",
        "<li><strong>Multicollinearity</strong>: If two or more variables are highly correlated (with correlation values close to +1 or -1), it could lead to multicollinearity issues in certain models (like linear regression). For example, if <code>Open</code> and <code>Close</code> are highly correlated, one of them might be redundant.</li>\n",
        "<li><strong>Negative or weak correlations</strong>: These can show which features are less related or even inversely related, providing an understanding of the relationships that might affect predictive accuracy.</li>\n",
        "</ul>"
      ],
      "metadata": {
        "id": "uyqkiB8YYuh3"
      }
    },
    {
      "cell_type": "markdown",
      "source": [
        "##### 3. Will the gained insights help creating a positive business impact?\n",
        "Are there any insights that lead to negative growth? Justify with specific reason."
      ],
      "metadata": {
        "id": "qYpmQ266Yuh3"
      }
    },
    {
      "cell_type": "markdown",
      "source": [
        "<p>Are there any insights that lead to negative growth? Justify with a specific reason.</p>\n",
        "<p>Yes, the insights from the heatmap can help create a positive business impact in several ways:</p>\n",
        "<ul>\n",
        "<li><strong>Improved Feature Selection</strong>: By identifying and removing highly correlated features, we can reduce the risk of multicollinearity, which improves the model's accuracy and interpretability. For example, removing one of the highly correlated features (e.g., <code>Open</code> and <code>Close</code> prices) could simplify the model without losing predictive power.</li>\n",
        "<li><strong>Targeted Analysis</strong>: Strong correlations can help prioritize the analysis of specific features that are more predictive, allowing businesses to focus on the most relevant data, reducing noise in decision-making processes.</li>\n",
        "<li><strong>Model Efficiency</strong>: By removing redundant or irrelevant variables, model training times can be reduced, and the generalization ability of the model can be improved, reducing the risk of overfitting.</li>\n",
        "</ul>\n",
        "<p>However, insights from the heatmap could also highlight potential negative factors:</p>\n",
        "<ul>\n",
        "<li><strong>Over-Reliance on Correlated Variables</strong>: If the analysis overly depends on a few highly correlated variables, it could lead to a biased model. For example, if all stock price-related features (<code>Open</code>, <code>Close</code>, etc.) are highly correlated and treated as independent, it might result in misleading predictions.</li>\n",
        "</ul>"
      ],
      "metadata": {
        "id": "Yb227PeEMKua"
      }
    },
    {
      "cell_type": "markdown",
      "source": [
        "#### Chart - 7"
      ],
      "metadata": {
        "id": "OH-pJp9IphqM"
      }
    },
    {
      "cell_type": "code",
      "source": [
        "# Chart - 7 visualization code pair plot\n",
        "sns.pairplot(df)\n",
        "plt.show()"
      ],
      "metadata": {
        "id": "kuRf4wtuphqN"
      },
      "execution_count": null,
      "outputs": []
    },
    {
      "cell_type": "markdown",
      "source": [
        "##### 1. Why did you pick the specific chart?"
      ],
      "metadata": {
        "id": "bbFf2-_FphqN"
      }
    },
    {
      "cell_type": "markdown",
      "source": [
        "<p>&nbsp;</p>\n",
        "<ul>\n",
        "<li><strong>Scatterplots</strong>: For each pair of numerical variables, a scatterplot will show how one feature relates to the other. This is useful for visualizing potential correlations or patterns between variables.</li>\n",
        "<li><strong>Diagonals</strong>: The diagonal will display histograms of the individual features, providing insights into their distributions.</li>\n",
        "</ul>"
      ],
      "metadata": {
        "id": "loh7H2nzphqN"
      }
    },
    {
      "cell_type": "markdown",
      "source": [
        "##### 2. What is/are the insight(s) found from the chart?"
      ],
      "metadata": {
        "id": "_ouA3fa0phqN"
      }
    },
    {
      "cell_type": "markdown",
      "source": [
        "Answer Here"
      ],
      "metadata": {
        "id": "VECbqPI7phqN"
      }
    },
    {
      "cell_type": "markdown",
      "source": [
        "## ***6. Feature Engineering & Data Pre-processing***"
      ],
      "metadata": {
        "id": "yLjJCtPM0KBk"
      }
    },
    {
      "cell_type": "markdown",
      "source": [
        "### 1. Handling Missing Values"
      ],
      "metadata": {
        "id": "xiyOF9F70UgQ"
      }
    },
    {
      "cell_type": "code",
      "source": [
        "# Handling Missing Values & Missing Value Imputation\n",
        "df.isnull().sum()"
      ],
      "metadata": {
        "id": "iRsAHk1K0fpS"
      },
      "execution_count": null,
      "outputs": []
    },
    {
      "cell_type": "markdown",
      "source": [
        "#### What all missing value imputation techniques have you used and why did you use those techniques?"
      ],
      "metadata": {
        "id": "7wuGOrhz0itI"
      }
    },
    {
      "cell_type": "markdown",
      "source": [
        "No Missing values"
      ],
      "metadata": {
        "id": "1ixusLtI0pqI"
      }
    },
    {
      "cell_type": "markdown",
      "source": [
        "### 2. Handling Outliers"
      ],
      "metadata": {
        "id": "id1riN9m0vUs"
      }
    },
    {
      "cell_type": "code",
      "source": [
        "# Handling Outliers & Outlier treatments"
      ],
      "metadata": {
        "id": "M6w2CzZf04JK"
      },
      "execution_count": null,
      "outputs": []
    },
    {
      "cell_type": "code",
      "source": [
        "plt.boxplot(df['Open'])"
      ],
      "metadata": {
        "id": "t5s8dILJwBSs"
      },
      "execution_count": null,
      "outputs": []
    },
    {
      "cell_type": "code",
      "source": [
        "print(df['Open'].mean())\n",
        "print(df['Open'].median())"
      ],
      "metadata": {
        "id": "4WJhSbsKxWNO"
      },
      "execution_count": null,
      "outputs": []
    },
    {
      "cell_type": "code",
      "source": [
        "df['Open'].value_counts().sort_index()"
      ],
      "metadata": {
        "id": "23rz5mKOwdvF"
      },
      "execution_count": null,
      "outputs": []
    },
    {
      "cell_type": "code",
      "source": [
        "df['Open'] = np.where(df['Open'] > 250, df['Open'].mean(), df['Open'])\n"
      ],
      "metadata": {
        "id": "kQ6xWLChyqBl"
      },
      "execution_count": null,
      "outputs": []
    },
    {
      "cell_type": "code",
      "source": [
        "plt.boxplot(df['Open'])"
      ],
      "metadata": {
        "id": "PoBLnA67zhbT"
      },
      "execution_count": null,
      "outputs": []
    },
    {
      "cell_type": "code",
      "source": [
        "plt.boxplot(df['High'])"
      ],
      "metadata": {
        "id": "R_z-6g6CwH9U"
      },
      "execution_count": null,
      "outputs": []
    },
    {
      "cell_type": "code",
      "source": [
        "plt.boxplot(df['Low'])"
      ],
      "metadata": {
        "id": "xJG2xaNVwMRK"
      },
      "execution_count": null,
      "outputs": []
    },
    {
      "cell_type": "code",
      "source": [
        "df['Low'] = np.where(df['Low'] > 250, df['Low'].mean(), df['Open'])"
      ],
      "metadata": {
        "id": "8fiQBSKtz7M4"
      },
      "execution_count": null,
      "outputs": []
    },
    {
      "cell_type": "code",
      "source": [
        "plt.boxplot(df['Low'])"
      ],
      "metadata": {
        "id": "E4hYp0VM0Jlz"
      },
      "execution_count": null,
      "outputs": []
    },
    {
      "cell_type": "code",
      "source": [
        "plt.boxplot(df['Close'])"
      ],
      "metadata": {
        "id": "tu2wwagFwTc9"
      },
      "execution_count": null,
      "outputs": []
    },
    {
      "cell_type": "code",
      "source": [
        "df['Close'] = np.where(df['Close'] > 300, df['Close'].mean(), df['Open'])"
      ],
      "metadata": {
        "id": "Ha5ckpMN0ZRb"
      },
      "execution_count": null,
      "outputs": []
    },
    {
      "cell_type": "code",
      "source": [
        "plt.boxplot(df['Close'])"
      ],
      "metadata": {
        "id": "GzGIMg6l0gk-"
      },
      "execution_count": null,
      "outputs": []
    },
    {
      "cell_type": "markdown",
      "source": [
        "##### What all outlier treatment techniques have you used and why did you use those techniques?"
      ],
      "metadata": {
        "id": "578E2V7j08f6"
      }
    },
    {
      "cell_type": "markdown",
      "source": [
        "<p><strong>Technique Used</strong>: When values were considered outliers based on boxplot detection (using quartiles and IQR), the outliers were capped at a specific threshold. For example, any values greater than a certain threshold (such as very high passenger counts or trip durations) were replaced with the mean value.</p>"
      ],
      "metadata": {
        "id": "uGZz5OrT1HH-"
      }
    },
    {
      "cell_type": "markdown",
      "source": [
        "### 3. Categorical Encoding"
      ],
      "metadata": {
        "id": "89xtkJwZ18nB"
      }
    },
    {
      "cell_type": "code",
      "source": [
        "# Encode your categorical columns"
      ],
      "metadata": {
        "id": "21JmIYMG2hEo"
      },
      "execution_count": null,
      "outputs": []
    },
    {
      "cell_type": "markdown",
      "source": [
        "#### What all categorical encoding techniques have you used & why did you use those techniques?"
      ],
      "metadata": {
        "id": "67NQN5KX2AMe"
      }
    },
    {
      "cell_type": "markdown",
      "source": [
        "Answer Here."
      ],
      "metadata": {
        "id": "UDaue5h32n_G"
      }
    },
    {
      "cell_type": "markdown",
      "source": [
        "### 4. Feature Manipulation & Selection"
      ],
      "metadata": {
        "id": "-oLEiFgy-5Pf"
      }
    },
    {
      "cell_type": "markdown",
      "source": [
        "#### 2. Feature Selection"
      ],
      "metadata": {
        "id": "2DejudWSA-a0"
      }
    },
    {
      "cell_type": "code",
      "source": [
        "# Select your features wisely to avoid overfitting\n",
        "\n",
        "\n",
        "\n",
        "# Check correlation matrix to identify highly correlated features\n",
        "correlation_matrix = df[['Open', 'High', 'Low', 'Close']].corr()\n",
        "print(correlation_matrix)\n",
        "\n",
        "# Select features based on correlation and domain knowledge\n",
        "selected_features = ['Open', 'High', 'Low', 'Close', 'month', 'day']\n",
        "\n",
        "# Create feature and target arrays\n",
        "X = df[selected_features]\n",
        "y = df['Close']  # or any other target variable of interest\n"
      ],
      "metadata": {
        "id": "YLhe8UmaBCEE"
      },
      "execution_count": null,
      "outputs": []
    },
    {
      "cell_type": "code",
      "source": [
        "df.columns"
      ],
      "metadata": {
        "id": "u7fVahXI4FXE"
      },
      "execution_count": null,
      "outputs": []
    },
    {
      "cell_type": "markdown",
      "source": [
        "##### What all feature selection methods have you used  and why?"
      ],
      "metadata": {
        "id": "pEMng2IbBLp7"
      }
    },
    {
      "cell_type": "markdown",
      "source": [
        "<ol>\n",
        "<li>\n",
        "<h3><strong>Correlation Analysis</strong></h3>\n",
        "<ul>\n",
        "<li><strong>Method</strong>: Correlation analysis examines the relationship between two variables. Features that have a high correlation with the target variable (e.g., <code>Close</code> in stock data) are generally more useful for predictive modeling. Conversely, features that are highly correlated with each other (multicollinearity) might be redundant.</li>\n",
        "<li><strong>Why</strong>: In the stock dataset, features like <code>Open</code>, <code>High</code>, <code>Low</code>, and <code>Close</code> prices are likely correlated. By analyzing correlations, we can determine which features are useful and which might lead to multicollinearity.</li>\n",
        "<li><strong>Example</strong>: Dropping features with high collinearity like <code>Open</code> and <code>Low</code> if they show a very strong correlation with <code>Close</code>.</li>\n",
        "</ul>\n",
        "</li>\n",
        "</ol>"
      ],
      "metadata": {
        "id": "rb2Lh6Z8BgGs"
      }
    },
    {
      "cell_type": "markdown",
      "source": [
        "##### Which all features you found important and why?"
      ],
      "metadata": {
        "id": "rAdphbQ9Bhjc"
      }
    },
    {
      "cell_type": "markdown",
      "source": [
        "<ol>\n",
        "\n",
        "<h3>Features like <code>Open</code>, <code>High</code>, <code>Low</code>, and <code>Close</code> had strong correlations with each other, particularly <code>Close</code> with both <code>Open</code> and <code>Low</code>. This correlation indicates that these features are directly related to stock price movements and are thus important for predicting the closing price.</h3>\n",
        "\n",
        "</ol>"
      ],
      "metadata": {
        "id": "fGgaEstsBnaf"
      }
    },
    {
      "cell_type": "markdown",
      "source": [
        "### 6. Data Scaling"
      ],
      "metadata": {
        "id": "rMDnDkt2B6du"
      }
    },
    {
      "cell_type": "markdown",
      "source": [
        "### 8. Data Splitting"
      ],
      "metadata": {
        "id": "BhH2vgX9EjGr"
      }
    },
    {
      "cell_type": "code",
      "source": [
        "# Split your data to train and test. Choose Splitting ratio wisely."
      ],
      "metadata": {
        "id": "0CTyd2UwEyNM"
      },
      "execution_count": null,
      "outputs": []
    },
    {
      "cell_type": "code",
      "source": [
        "new_df = pd.get_dummies(df, drop_first=True)\n",
        "new_df.info()"
      ],
      "metadata": {
        "id": "qU53BH9b5kgA"
      },
      "execution_count": null,
      "outputs": []
    },
    {
      "cell_type": "code",
      "source": [],
      "metadata": {
        "id": "ZblR1jQNGXBT"
      },
      "execution_count": null,
      "outputs": []
    },
    {
      "cell_type": "code",
      "source": [
        "dependent_columns='Close'\n",
        "independent_columns=list(set(df.columns)-{dependent_columns}-{'Date', 'Open','Low'})\n",
        "print(dependent_columns)\n",
        "print(independent_columns)"
      ],
      "metadata": {
        "id": "kZTkN5Tl89RQ"
      },
      "execution_count": null,
      "outputs": []
    },
    {
      "cell_type": "code",
      "source": [
        "df.head()"
      ],
      "metadata": {
        "id": "zMKuy3b6qQxn"
      },
      "execution_count": null,
      "outputs": []
    },
    {
      "cell_type": "code",
      "source": [
        "print(df[independent_columns])"
      ],
      "metadata": {
        "id": "tX6v9AXZp98X"
      },
      "execution_count": null,
      "outputs": []
    },
    {
      "cell_type": "code",
      "source": [
        "print(df[dependent_columns])"
      ],
      "metadata": {
        "id": "QquLMysCpqcH"
      },
      "execution_count": null,
      "outputs": []
    },
    {
      "cell_type": "code",
      "source": [
        "x=df[independent_columns].values\n",
        "print(x)\n",
        "y=df[dependent_columns].values\n",
        "print(x)\n"
      ],
      "metadata": {
        "id": "u94NYtQK9eHv"
      },
      "execution_count": null,
      "outputs": []
    },
    {
      "cell_type": "code",
      "source": [
        "from sklearn.model_selection import train_test_split"
      ],
      "metadata": {
        "id": "oTqroKbfiS1e"
      },
      "execution_count": null,
      "outputs": []
    },
    {
      "cell_type": "code",
      "source": [
        "x_train, x_test, y_train, y_test = train_test_split(x, y, test_size=0.2, random_state=42)"
      ],
      "metadata": {
        "id": "X7qABnhWiWgn"
      },
      "execution_count": null,
      "outputs": []
    },
    {
      "cell_type": "code",
      "source": [
        "print(x_train.shape)\n",
        "print(x_test.shape)\n",
        "print(y_train.shape)\n",
        "print(y_test.shape)"
      ],
      "metadata": {
        "id": "76xD5SZNhw4S"
      },
      "execution_count": null,
      "outputs": []
    },
    {
      "cell_type": "markdown",
      "source": [
        "##### What data splitting ratio have you used and why?"
      ],
      "metadata": {
        "id": "qjKvONjwE8ra"
      }
    },
    {
      "cell_type": "markdown",
      "source": [
        "Answer Here."
      ],
      "metadata": {
        "id": "Y2lJ8cobFDb_"
      }
    },
    {
      "cell_type": "markdown",
      "source": [
        "## ***7. ML Model Implementation***"
      ],
      "metadata": {
        "id": "VfCC591jGiD4"
      }
    },
    {
      "cell_type": "markdown",
      "source": [
        "### ML Model - 1"
      ],
      "metadata": {
        "id": "OB4l2ZhMeS1U"
      }
    },
    {
      "cell_type": "code",
      "source": [
        "# ML Model - 1 Implementation\n",
        "\n",
        "# Fit the Algorithm\n",
        "\n",
        "# Predict on the model"
      ],
      "metadata": {
        "id": "7ebyywQieS1U"
      },
      "execution_count": null,
      "outputs": []
    },
    {
      "cell_type": "markdown",
      "source": [
        "#### 1. Explain the ML Model used and it's performance using Evaluation metric Score Chart."
      ],
      "metadata": {
        "id": "ArJBuiUVfxKd"
      }
    },
    {
      "cell_type": "code",
      "source": [
        "# Visualizing evaluation Metric Score chart\n",
        "mean_absolut_error = []\n",
        "mean_sq_error=[]\n",
        "root_mean_sq_error=[]\n",
        "training_score =[]\n",
        "r2_list=[]\n",
        "adj_r2_list=[]\n",
        "from sklearn.metrics import mean_squared_error\n",
        "from sklearn.metrics import mean_absolute_error\n",
        "from sklearn.metrics import r2_score\n",
        "\n",
        "\n",
        "def score_metrix (model,X_train,X_test,Y_train,Y_test):\n",
        "\n",
        "  '''\n",
        "    train the model and gives mae, mse,rmse,r2,adj r2 score of the model\n",
        "\n",
        "  '''\n",
        "  #training the model\n",
        "  model.fit(X_train,Y_train)\n",
        "\n",
        "  # Training Score\n",
        "  training  = model.score(X_train,Y_train)\n",
        "  print(\"Training score  =\", training)\n",
        "\n",
        "  try:\n",
        "      # finding the best parameters of the model if any\n",
        "    print(f\"The best parameters found out to be :{model.best_params_} \\nwhere model best score is:  {model.best_score_} \\n\")\n",
        "  except:\n",
        "    pass\n",
        "\n",
        "\n",
        "  #predicting the Test set and evaluting the models\n",
        "\n",
        "  if model == LinearRegression() or model == Lasso() or model == Ridge():\n",
        "    Y_pred = model.predict(X_test)\n",
        "\n",
        "    #finding mean_absolute_error\n",
        "    MAE  = mean_absolute_error(Y_test**2,Y_pred**2)\n",
        "    print(\"MAE :\" , MAE)\n",
        "\n",
        "    #finding mean_squared_error\n",
        "    MSE  = mean_squared_error(Y_test**2,Y_pred**2)\n",
        "    print(\"MSE :\" , MSE)\n",
        "\n",
        "    #finding root mean squared error\n",
        "    RMSE = np.sqrt(MSE)\n",
        "    print(\"RMSE :\" ,RMSE)\n",
        "\n",
        "    #finding the r2 score\n",
        "\n",
        "    r2 = r2_score(Y_test**2,Y_pred**2)\n",
        "    print(\"R2 :\" ,r2)\n",
        "    #finding the adjusted r2 score\n",
        "    adj_r2=1-(1-r2_score(Y_test**2,Y_pred**2))*((X_test.shape[0]-1)/(X_test.shape[0]-X_test.shape[1]-1))\n",
        "    print(\"Adjusted R2 : \",adj_r2,'\\n')\n",
        "\n",
        "  else:\n",
        "    # for tree base models\n",
        "    Y_pred = model.predict(X_test)\n",
        "\n",
        "    #finding mean_absolute_error\n",
        "    MAE  = mean_absolute_error(Y_test,Y_pred)\n",
        "    print(\"MAE :\" , MAE)\n",
        "\n",
        "    #finding mean_squared_error\n",
        "    MSE  = mean_squared_error(Y_test,Y_pred)\n",
        "    print(\"MSE :\" , MSE)\n",
        "\n",
        "    #finding root mean squared error\n",
        "    RMSE = np.sqrt(MSE)\n",
        "    print(\"RMSE :\" ,RMSE)\n",
        "\n",
        "    #finding the r2 score\n",
        "\n",
        "    r2 = r2_score(Y_test,Y_pred)\n",
        "    print(\"R2 :\" ,r2)\n",
        "    #finding the adjusted r2 score\n",
        "    adj_r2=1-(1-r2_score(Y_test,Y_pred))*((X_test.shape[0]-1)/(X_test.shape[0]-X_test.shape[1]-1))\n",
        "    print(\"Adjusted R2 : \",adj_r2,'\\n')\n",
        "\n",
        "    try:\n",
        "\n",
        "      # ploting the graph of feature importance\n",
        "\n",
        "      best = model.best_estimator_\n",
        "      features = X_train.columns\n",
        "      importances = best.feature_importances_\n",
        "      indices = np.argsort(importances)\n",
        "      plt.figure(figsize=(10,15))\n",
        "      plt.title('Feature Importance')\n",
        "      plt.barh(range(len(indices)), importances[indices], color='red', align='center')\n",
        "      plt.yticks(range(len(indices)), [features[i] for i in indices])\n",
        "      plt.xlabel('Relative Importance')\n",
        "      plt.show()\n",
        "\n",
        "    except:\n",
        "      pass\n",
        "\n",
        "  # Here we appending the parameters for all models\n",
        "  mean_absolut_error.append(MAE)\n",
        "  mean_sq_error.append(MSE)\n",
        "  root_mean_sq_error.append(RMSE)\n",
        "  training_score.append(training)\n",
        "  r2_list.append(r2)\n",
        "  adj_r2_list.append(adj_r2)\n",
        "\n",
        "  print('*'*80)\n",
        "  # print the cofficient and intercept of which model have these parameters and else we just pass them\n",
        "  try :\n",
        "    print(\"coefficient \\n\",model.coef_)\n",
        "    print('\\n')\n",
        "    print(\"Intercept  = \" ,model.intercept_)\n",
        "    tr_sc=model.predict(x_train)\n",
        "    tr_ts=model.predict(x_test)\n",
        "  except:\n",
        "    pass\n",
        "  print('\\n')\n",
        "  print('*'*20, 'ploting the graph of Actual and predicted only with 80 observation', '*'*20)\n",
        "\n",
        "  # ploting the graph of Actual and predicted only with 80 observation for better visualisation which model have these parameters and else we just pass them\n",
        "  try:\n",
        "    # ploting the line graph of actual and predicted values\n",
        "    plt.figure(figsize=(15,7))\n",
        "    plt.plot((Y_pred)[:80])\n",
        "    plt.plot((np.array(Y_test)[:80]))\n",
        "    plt.legend([\"Predicted\",\"Actual\"])\n",
        "    plt.show()\n",
        "  except:\n",
        "    pass"
      ],
      "metadata": {
        "id": "rqD5ZohzfxKe"
      },
      "execution_count": null,
      "outputs": []
    },
    {
      "cell_type": "code",
      "source": [
        "from sklearn.linear_model import Lasso, Ridge\n",
        "from sklearn.linear_model import LinearRegression\n",
        "from sklearn.tree import DecisionTreeRegressor\n",
        "from sklearn.metrics import r2_score, mean_squared_error,mean_absolute_error,mean_absolute_percentage_error\n",
        "import math\n",
        "from sklearn.ensemble import AdaBoostRegressor\n",
        "from sklearn.ensemble import GradientBoostingRegressor\n",
        "from sklearn.ensemble import RandomForestRegressor\n",
        "from sklearn.preprocessing import StandardScaler\n",
        "from sklearn.neighbors import KNeighborsRegressor\n",
        "from sklearn.ensemble import VotingRegressor\n",
        "from xgboost import XGBRegressor\n",
        "from sklearn.model_selection import GridSearchCV\n",
        "from sklearn.preprocessing import PolynomialFeatures"
      ],
      "metadata": {
        "id": "hYz0QIXvCWS_"
      },
      "execution_count": null,
      "outputs": []
    },
    {
      "cell_type": "code",
      "source": [
        "score_metrix(LinearRegression(),x_train,x_test,y_train,y_test)\n"
      ],
      "metadata": {
        "id": "qQpmN0y2CM-v"
      },
      "execution_count": null,
      "outputs": []
    },
    {
      "cell_type": "code",
      "source": [
        "from sklearn.model_selection import cross_validate\n",
        "from sklearn.linear_model import LinearRegression\n",
        "from sklearn.preprocessing import StandardScaler\n",
        "from sklearn.model_selection import train_test_split"
      ],
      "metadata": {
        "id": "6JUcf82oFyI8"
      },
      "execution_count": null,
      "outputs": []
    },
    {
      "cell_type": "code",
      "source": [
        "from statsmodels.stats.outliers_influence import variance_inflation_factor\n",
        "import pandas as pd"
      ],
      "metadata": {
        "id": "2shJN3Kv2vJC"
      },
      "execution_count": null,
      "outputs": []
    },
    {
      "cell_type": "code",
      "source": [
        "from statsmodels.stats.outliers_influence import variance_inflation_factor\n",
        "\n",
        "def calc_vif(X):\n",
        "\n",
        "    # Calculating VIF\n",
        "    vif = pd.DataFrame()\n",
        "    vif[\"variables\"] = x.columns\n",
        "    vif[\"VIF\"] = [variance_inflation_factor(x.values, i) for i in range(x.shape[1])]\n",
        "\n",
        "    return(vif)"
      ],
      "metadata": {
        "id": "pGnV-S4NesCl"
      },
      "execution_count": null,
      "outputs": []
    },
    {
      "cell_type": "markdown",
      "source": [
        "#### 2. Cross- Validation & Hyperparameter Tuning"
      ],
      "metadata": {
        "id": "4qY1EAkEfxKe"
      }
    },
    {
      "cell_type": "code",
      "source": [
        "# ML Model - 1 Implementation with hyperparameter optimization techniques (i.e., GridSearch CV, RandomSearch CV, Bayesian Optimization etc.)\n",
        "\n",
        "# Fit the Algorithm\n",
        "\n",
        "# Predict on the model"
      ],
      "metadata": {
        "id": "Dy61ujd6fxKe"
      },
      "execution_count": null,
      "outputs": []
    },
    {
      "cell_type": "code",
      "source": [
        "L1 = Lasso() #creating variable\n",
        "parameters = {'alpha': [1e-15,1e-13,1e-10,1e-8,1e-5,1e-4,1e-3,1e-2,1e-1,1,5,10,20,30,40,45,50,55,60,100,0.0014]} #lasso parameters\n",
        "lasso_cv = GridSearchCV(L1, parameters, cv=5) #using gridsearchcv and cross validate the model"
      ],
      "metadata": {
        "id": "tbgBPnLz7lRE"
      },
      "execution_count": null,
      "outputs": []
    },
    {
      "cell_type": "code",
      "source": [
        "score_metrix(lasso_cv,x_train,x_test,y_train,y_test)"
      ],
      "metadata": {
        "id": "Nbu1OF3H7qhZ"
      },
      "execution_count": null,
      "outputs": []
    },
    {
      "cell_type": "code",
      "source": [
        "L2 = Ridge() #creating variable\n",
        "parameters = {'alpha': [1e-15,1e-10,1e-8,1e-5,1e-4,1e-3,1e-2,1,5,10,20,30,40,45,50,55,60,100,0.5,1.5,1.6,1.7,1.8,1.9]} # giving parameters\n",
        "L2_cv = GridSearchCV(L2, parameters, scoring='r2', cv=5) #using gridsearchcv and cross validate the model\n",
        "score_metrix(L2_cv,x_train,x_test,y_train,y_test) # fit and evaluate model with score_matrix function"
      ],
      "metadata": {
        "id": "IDbywoyi8J3c"
      },
      "execution_count": null,
      "outputs": []
    },
    {
      "cell_type": "code",
      "source": [
        "from sklearn.model_selection import cross_val_score\n",
        "from sklearn.linear_model import LinearRegression"
      ],
      "metadata": {
        "id": "fepYMOj4Ihqc"
      },
      "execution_count": null,
      "outputs": []
    },
    {
      "cell_type": "code",
      "source": [
        "\n",
        "# Assuming x and y are your feature matrix and target vector\n",
        "x=df[independent_columns].values\n",
        "y=df[dependent_columns].values\n",
        "\n",
        "\n",
        "# Perform 5-Fold Cross Validation\n",
        "cv_scores = cross_val_score(LinearRegression(), x, y, cv=5, scoring='neg_mean_squared_error')\n",
        "\n",
        "# Print each cross-validation score and the average score\n",
        "print(\"Cross-Validation MSE Scores:\", -cv_scores)\n",
        "print(\"Average Cross-Validation MSE:\", -cv_scores.mean())\n"
      ],
      "metadata": {
        "id": "8ymM5UVkIgv9"
      },
      "execution_count": null,
      "outputs": []
    },
    {
      "cell_type": "code",
      "source": [
        "cv_scores_r2 = cross_val_score(LinearRegression(), x, y, cv=5, scoring='r2')\n",
        "print(\"Cross-Validation R² Scores:\", cv_scores_r2)\n",
        "print(\"Average Cross-Validation R²:\", cv_scores_r2.mean())"
      ],
      "metadata": {
        "id": "b3rUEXArJing"
      },
      "execution_count": null,
      "outputs": []
    },
    {
      "cell_type": "markdown",
      "source": [
        "##### Which hyperparameter optimization technique have you used and why?"
      ],
      "metadata": {
        "id": "PiV4Ypx8fxKe"
      }
    },
    {
      "cell_type": "markdown",
      "source": [
        "<ol>\n",
        "\n",
        "<p>There are several popular hyperparameter optimization techniques commonly used in machine learning, each with its own strengths. We used are:</p>\n",
        "<ol>\n",
        "<li><strong>Grid Search CV</strong></li>\n",
        "<li><strong>Random Search CV</strong></li>\n",
        "</ol>\n",
        "<p>The choice of which to use depends on the specific use case, model, and computational resources available.</p>\n",
        "\n",
        "</ol>"
      ],
      "metadata": {
        "id": "negyGRa7fxKf"
      }
    },
    {
      "cell_type": "markdown",
      "source": [
        "##### Have you seen any improvement? Note down the improvement with updates Evaluation metric Score Chart."
      ],
      "metadata": {
        "id": "TfvqoZmBfxKf"
      }
    },
    {
      "cell_type": "markdown",
      "source": [
        " **Not much**"
      ],
      "metadata": {
        "id": "OaLui8CcfxKf"
      }
    },
    {
      "cell_type": "markdown",
      "source": [
        "### ML Model - 2"
      ],
      "metadata": {
        "id": "dJ2tPlVmpsJ0"
      }
    },
    {
      "cell_type": "markdown",
      "source": [
        "#### 1. Explain the ML Model used and it's performance using Evaluation metric Score Chart."
      ],
      "metadata": {
        "id": "JWYfwnehpsJ1"
      }
    },
    {
      "cell_type": "code",
      "source": [
        "# Visualizing evaluation Metric Score chart\n",
        "from sklearn.ensemble import RandomForestRegressor"
      ],
      "metadata": {
        "id": "yEl-hgQWpsJ1"
      },
      "execution_count": null,
      "outputs": []
    },
    {
      "cell_type": "code",
      "source": [
        "score_metrix(RandomForestRegressor(), x_train, x_test, y_train, y_test)"
      ],
      "metadata": {
        "id": "7cBC0L7j7Ve_"
      },
      "execution_count": null,
      "outputs": []
    },
    {
      "cell_type": "markdown",
      "source": [
        "#### 2. Cross- Validation & Hyperparameter Tuning"
      ],
      "metadata": {
        "id": "-jK_YjpMpsJ2"
      }
    },
    {
      "cell_type": "code",
      "source": [
        "# ML Model - 1 Implementation with hyperparameter optimization techniques (i.e., GridSearch CV, RandomSearch CV, Bayesian Optimization etc.)\n",
        "\n",
        "# Fit the Algorithm\n",
        "\n",
        "# Predict on the model"
      ],
      "metadata": {
        "id": "Dn0EOfS6psJ2"
      },
      "execution_count": null,
      "outputs": []
    },
    {
      "cell_type": "markdown",
      "source": [
        "##### Which hyperparameter optimization technique have you used and why?"
      ],
      "metadata": {
        "id": "HAih1iBOpsJ2"
      }
    },
    {
      "cell_type": "markdown",
      "source": [
        "Answer Here."
      ],
      "metadata": {
        "id": "9kBgjYcdpsJ2"
      }
    },
    {
      "cell_type": "markdown",
      "source": [
        "##### Have you seen any improvement? Note down the improvement with updates Evaluation metric Score Chart."
      ],
      "metadata": {
        "id": "zVGeBEFhpsJ2"
      }
    },
    {
      "cell_type": "markdown",
      "source": [
        "Answer Here."
      ],
      "metadata": {
        "id": "74yRdG6UpsJ3"
      }
    },
    {
      "cell_type": "markdown",
      "source": [
        "#### 3. Explain each evaluation metric's indication towards business and the business impact pf the ML model used."
      ],
      "metadata": {
        "id": "bmKjuQ-FpsJ3"
      }
    },
    {
      "cell_type": "markdown",
      "source": [
        "Answer Here."
      ],
      "metadata": {
        "id": "BDKtOrBQpsJ3"
      }
    },
    {
      "cell_type": "markdown",
      "source": [
        "### ML Model - 3"
      ],
      "metadata": {
        "id": "Fze-IPXLpx6K"
      }
    },
    {
      "cell_type": "code",
      "source": [
        "# ML Model - 3 Implementation\n",
        "\n",
        "# Fit the Algorithm\n",
        "\n",
        "# Predict on the model"
      ],
      "metadata": {
        "id": "FFrSXAtrpx6M"
      },
      "execution_count": null,
      "outputs": []
    },
    {
      "cell_type": "markdown",
      "source": [
        "#### 1. Explain the ML Model used and it's performance using Evaluation metric Score Chart."
      ],
      "metadata": {
        "id": "7AN1z2sKpx6M"
      }
    },
    {
      "cell_type": "code",
      "source": [
        "# Visualizing evaluation Metric Score chart"
      ],
      "metadata": {
        "id": "xIY4lxxGpx6M"
      },
      "execution_count": null,
      "outputs": []
    },
    {
      "cell_type": "markdown",
      "source": [
        "#### 2. Cross- Validation & Hyperparameter Tuning"
      ],
      "metadata": {
        "id": "9PIHJqyupx6M"
      }
    },
    {
      "cell_type": "code",
      "source": [
        "# ML Model - 3 Implementation with hyperparameter optimization techniques (i.e., GridSearch CV, RandomSearch CV, Bayesian Optimization etc.)\n",
        "\n",
        "# Fit the Algorithm\n",
        "\n",
        "# Predict on the model"
      ],
      "metadata": {
        "id": "eSVXuaSKpx6M"
      },
      "execution_count": null,
      "outputs": []
    },
    {
      "cell_type": "markdown",
      "source": [
        "##### Which hyperparameter optimization technique have you used and why?"
      ],
      "metadata": {
        "id": "_-qAgymDpx6N"
      }
    },
    {
      "cell_type": "markdown",
      "source": [
        "Answer Here."
      ],
      "metadata": {
        "id": "lQMffxkwpx6N"
      }
    },
    {
      "cell_type": "markdown",
      "source": [
        "##### Have you seen any improvement? Note down the improvement with updates Evaluation metric Score Chart."
      ],
      "metadata": {
        "id": "Z-hykwinpx6N"
      }
    },
    {
      "cell_type": "markdown",
      "source": [
        "Answer Here."
      ],
      "metadata": {
        "id": "MzVzZC6opx6N"
      }
    },
    {
      "cell_type": "markdown",
      "source": [
        "### 1. Which Evaluation metrics did you consider for a positive business impact and why?"
      ],
      "metadata": {
        "id": "h_CCil-SKHpo"
      }
    },
    {
      "cell_type": "markdown",
      "source": [
        "Answer Here."
      ],
      "metadata": {
        "id": "jHVz9hHDKFms"
      }
    },
    {
      "cell_type": "markdown",
      "source": [
        "### 2. Which ML model did you choose from the above created models as your final prediction model and why?"
      ],
      "metadata": {
        "id": "cBFFvTBNJzUa"
      }
    },
    {
      "cell_type": "markdown",
      "source": [
        "Answer Here."
      ],
      "metadata": {
        "id": "6ksF5Q1LKTVm"
      }
    },
    {
      "cell_type": "markdown",
      "source": [
        "### 3. Explain the model which you have used and the feature importance using any model explainability tool?"
      ],
      "metadata": {
        "id": "HvGl1hHyA_VK"
      }
    },
    {
      "cell_type": "markdown",
      "source": [
        "Answer Here."
      ],
      "metadata": {
        "id": "YnvVTiIxBL-C"
      }
    },
    {
      "cell_type": "markdown",
      "source": [
        "# **Conclusion**"
      ],
      "metadata": {
        "id": "gCX9965dhzqZ"
      }
    },
    {
      "cell_type": "markdown",
      "source": [
        "Write the conclusion here."
      ],
      "metadata": {
        "id": "Fjb1IsQkh3yE"
      }
    },
    {
      "cell_type": "markdown",
      "source": [
        "### ***Hurrah! You have successfully completed your Machine Learning Capstone Project !!!***"
      ],
      "metadata": {
        "id": "gIfDvo9L0UH2"
      }
    }
  ]
}